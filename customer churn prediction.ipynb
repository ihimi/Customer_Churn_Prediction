{
 "cells": [
  {
   "attachments": {},
   "cell_type": "markdown",
   "id": "da86f489",
   "metadata": {
    "papermill": {
     "duration": 0.041502,
     "end_time": "2022-04-23T17:53:39.324292",
     "exception": false,
     "start_time": "2022-04-23T17:53:39.282790",
     "status": "completed"
    },
    "tags": []
   },
   "source": [
    "# 1. Load data into pandas dataframe"
   ]
  },
  {
   "cell_type": "code",
   "execution_count": 1,
   "id": "3e2c161f",
   "metadata": {
    "execution": {
     "iopub.execute_input": "2022-04-23T17:53:39.227552Z",
     "iopub.status.busy": "2022-04-23T17:53:39.227211Z",
     "iopub.status.idle": "2022-04-23T17:53:39.236684Z",
     "shell.execute_reply": "2022-04-23T17:53:39.236069Z"
    },
    "papermill": {
     "duration": 0.059338,
     "end_time": "2022-04-23T17:53:39.239520",
     "exception": false,
     "start_time": "2022-04-23T17:53:39.180182",
     "status": "completed"
    },
    "tags": []
   },
   "outputs": [],
   "source": [
    "# data processing\n",
    "\n",
    "import pandas as pd "
   ]
  },
  {
   "cell_type": "code",
   "execution_count": 2,
   "id": "c20ef4c9",
   "metadata": {
    "execution": {
     "iopub.execute_input": "2022-04-23T17:53:39.410123Z",
     "iopub.status.busy": "2022-04-23T17:53:39.409573Z",
     "iopub.status.idle": "2022-04-23T17:53:39.470035Z",
     "shell.execute_reply": "2022-04-23T17:53:39.469243Z"
    },
    "papermill": {
     "duration": 0.106533,
     "end_time": "2022-04-23T17:53:39.473409",
     "exception": false,
     "start_time": "2022-04-23T17:53:39.366876",
     "status": "completed"
    },
    "tags": []
   },
   "outputs": [
    {
     "data": {
      "text/html": [
       "<div>\n",
       "<style scoped>\n",
       "    .dataframe tbody tr th:only-of-type {\n",
       "        vertical-align: middle;\n",
       "    }\n",
       "\n",
       "    .dataframe tbody tr th {\n",
       "        vertical-align: top;\n",
       "    }\n",
       "\n",
       "    .dataframe thead th {\n",
       "        text-align: right;\n",
       "    }\n",
       "</style>\n",
       "<table border=\"1\" class=\"dataframe\">\n",
       "  <thead>\n",
       "    <tr style=\"text-align: right;\">\n",
       "      <th></th>\n",
       "      <th>state</th>\n",
       "      <th>account_length</th>\n",
       "      <th>area_code</th>\n",
       "      <th>international_plan</th>\n",
       "      <th>voice_mail_plan</th>\n",
       "      <th>number_vmail_messages</th>\n",
       "      <th>total_day_minutes</th>\n",
       "      <th>total_day_calls</th>\n",
       "      <th>total_day_charge</th>\n",
       "      <th>total_eve_minutes</th>\n",
       "      <th>total_eve_calls</th>\n",
       "      <th>total_eve_charge</th>\n",
       "      <th>total_night_minutes</th>\n",
       "      <th>total_night_calls</th>\n",
       "      <th>total_night_charge</th>\n",
       "      <th>total_intl_minutes</th>\n",
       "      <th>total_intl_calls</th>\n",
       "      <th>total_intl_charge</th>\n",
       "      <th>number_customer_service_calls</th>\n",
       "      <th>churn</th>\n",
       "    </tr>\n",
       "  </thead>\n",
       "  <tbody>\n",
       "    <tr>\n",
       "      <th>0</th>\n",
       "      <td>OH</td>\n",
       "      <td>107</td>\n",
       "      <td>area_code_415</td>\n",
       "      <td>no</td>\n",
       "      <td>yes</td>\n",
       "      <td>26</td>\n",
       "      <td>161.6</td>\n",
       "      <td>123</td>\n",
       "      <td>27.47</td>\n",
       "      <td>195.5</td>\n",
       "      <td>103</td>\n",
       "      <td>16.62</td>\n",
       "      <td>254.4</td>\n",
       "      <td>103</td>\n",
       "      <td>11.45</td>\n",
       "      <td>13.7</td>\n",
       "      <td>3</td>\n",
       "      <td>3.70</td>\n",
       "      <td>1</td>\n",
       "      <td>no</td>\n",
       "    </tr>\n",
       "    <tr>\n",
       "      <th>1</th>\n",
       "      <td>NJ</td>\n",
       "      <td>137</td>\n",
       "      <td>area_code_415</td>\n",
       "      <td>no</td>\n",
       "      <td>no</td>\n",
       "      <td>0</td>\n",
       "      <td>243.4</td>\n",
       "      <td>114</td>\n",
       "      <td>41.38</td>\n",
       "      <td>121.2</td>\n",
       "      <td>110</td>\n",
       "      <td>10.30</td>\n",
       "      <td>162.6</td>\n",
       "      <td>104</td>\n",
       "      <td>7.32</td>\n",
       "      <td>12.2</td>\n",
       "      <td>5</td>\n",
       "      <td>3.29</td>\n",
       "      <td>0</td>\n",
       "      <td>no</td>\n",
       "    </tr>\n",
       "    <tr>\n",
       "      <th>2</th>\n",
       "      <td>OH</td>\n",
       "      <td>84</td>\n",
       "      <td>area_code_408</td>\n",
       "      <td>yes</td>\n",
       "      <td>no</td>\n",
       "      <td>0</td>\n",
       "      <td>299.4</td>\n",
       "      <td>71</td>\n",
       "      <td>50.90</td>\n",
       "      <td>61.9</td>\n",
       "      <td>88</td>\n",
       "      <td>5.26</td>\n",
       "      <td>196.9</td>\n",
       "      <td>89</td>\n",
       "      <td>8.86</td>\n",
       "      <td>6.6</td>\n",
       "      <td>7</td>\n",
       "      <td>1.78</td>\n",
       "      <td>2</td>\n",
       "      <td>no</td>\n",
       "    </tr>\n",
       "    <tr>\n",
       "      <th>3</th>\n",
       "      <td>OK</td>\n",
       "      <td>75</td>\n",
       "      <td>area_code_415</td>\n",
       "      <td>yes</td>\n",
       "      <td>no</td>\n",
       "      <td>0</td>\n",
       "      <td>166.7</td>\n",
       "      <td>113</td>\n",
       "      <td>28.34</td>\n",
       "      <td>148.3</td>\n",
       "      <td>122</td>\n",
       "      <td>12.61</td>\n",
       "      <td>186.9</td>\n",
       "      <td>121</td>\n",
       "      <td>8.41</td>\n",
       "      <td>10.1</td>\n",
       "      <td>3</td>\n",
       "      <td>2.73</td>\n",
       "      <td>3</td>\n",
       "      <td>no</td>\n",
       "    </tr>\n",
       "    <tr>\n",
       "      <th>4</th>\n",
       "      <td>MA</td>\n",
       "      <td>121</td>\n",
       "      <td>area_code_510</td>\n",
       "      <td>no</td>\n",
       "      <td>yes</td>\n",
       "      <td>24</td>\n",
       "      <td>218.2</td>\n",
       "      <td>88</td>\n",
       "      <td>37.09</td>\n",
       "      <td>348.5</td>\n",
       "      <td>108</td>\n",
       "      <td>29.62</td>\n",
       "      <td>212.6</td>\n",
       "      <td>118</td>\n",
       "      <td>9.57</td>\n",
       "      <td>7.5</td>\n",
       "      <td>7</td>\n",
       "      <td>2.03</td>\n",
       "      <td>3</td>\n",
       "      <td>no</td>\n",
       "    </tr>\n",
       "  </tbody>\n",
       "</table>\n",
       "</div>"
      ],
      "text/plain": [
       "  state  account_length      area_code international_plan voice_mail_plan  \\\n",
       "0    OH             107  area_code_415                 no             yes   \n",
       "1    NJ             137  area_code_415                 no              no   \n",
       "2    OH              84  area_code_408                yes              no   \n",
       "3    OK              75  area_code_415                yes              no   \n",
       "4    MA             121  area_code_510                 no             yes   \n",
       "\n",
       "   number_vmail_messages  total_day_minutes  total_day_calls  \\\n",
       "0                     26              161.6              123   \n",
       "1                      0              243.4              114   \n",
       "2                      0              299.4               71   \n",
       "3                      0              166.7              113   \n",
       "4                     24              218.2               88   \n",
       "\n",
       "   total_day_charge  total_eve_minutes  total_eve_calls  total_eve_charge  \\\n",
       "0             27.47              195.5              103             16.62   \n",
       "1             41.38              121.2              110             10.30   \n",
       "2             50.90               61.9               88              5.26   \n",
       "3             28.34              148.3              122             12.61   \n",
       "4             37.09              348.5              108             29.62   \n",
       "\n",
       "   total_night_minutes  total_night_calls  total_night_charge  \\\n",
       "0                254.4                103               11.45   \n",
       "1                162.6                104                7.32   \n",
       "2                196.9                 89                8.86   \n",
       "3                186.9                121                8.41   \n",
       "4                212.6                118                9.57   \n",
       "\n",
       "   total_intl_minutes  total_intl_calls  total_intl_charge  \\\n",
       "0                13.7                 3               3.70   \n",
       "1                12.2                 5               3.29   \n",
       "2                 6.6                 7               1.78   \n",
       "3                10.1                 3               2.73   \n",
       "4                 7.5                 7               2.03   \n",
       "\n",
       "   number_customer_service_calls churn  \n",
       "0                              1    no  \n",
       "1                              0    no  \n",
       "2                              2    no  \n",
       "3                              3    no  \n",
       "4                              3    no  "
      ]
     },
     "execution_count": 2,
     "metadata": {},
     "output_type": "execute_result"
    }
   ],
   "source": [
    "df = pd.read_csv('/kaggle/input/customer-churn-prediction-2020/train.csv')\n",
    "df.head()"
   ]
  },
  {
   "cell_type": "code",
   "execution_count": 3,
   "id": "92b9ee59",
   "metadata": {
    "execution": {
     "iopub.execute_input": "2022-04-23T17:53:39.561542Z",
     "iopub.status.busy": "2022-04-23T17:53:39.561045Z",
     "iopub.status.idle": "2022-04-23T17:53:39.625161Z",
     "shell.execute_reply": "2022-04-23T17:53:39.624347Z"
    },
    "papermill": {
     "duration": 0.110487,
     "end_time": "2022-04-23T17:53:39.627435",
     "exception": false,
     "start_time": "2022-04-23T17:53:39.516948",
     "status": "completed"
    },
    "tags": []
   },
   "outputs": [
    {
     "data": {
      "text/html": [
       "<div>\n",
       "<style scoped>\n",
       "    .dataframe tbody tr th:only-of-type {\n",
       "        vertical-align: middle;\n",
       "    }\n",
       "\n",
       "    .dataframe tbody tr th {\n",
       "        vertical-align: top;\n",
       "    }\n",
       "\n",
       "    .dataframe thead th {\n",
       "        text-align: right;\n",
       "    }\n",
       "</style>\n",
       "<table border=\"1\" class=\"dataframe\">\n",
       "  <thead>\n",
       "    <tr style=\"text-align: right;\">\n",
       "      <th></th>\n",
       "      <th>account_length</th>\n",
       "      <th>number_vmail_messages</th>\n",
       "      <th>total_day_minutes</th>\n",
       "      <th>total_day_calls</th>\n",
       "      <th>total_day_charge</th>\n",
       "      <th>total_eve_minutes</th>\n",
       "      <th>total_eve_calls</th>\n",
       "      <th>total_eve_charge</th>\n",
       "      <th>total_night_minutes</th>\n",
       "      <th>total_night_calls</th>\n",
       "      <th>total_night_charge</th>\n",
       "      <th>total_intl_minutes</th>\n",
       "      <th>total_intl_calls</th>\n",
       "      <th>total_intl_charge</th>\n",
       "      <th>number_customer_service_calls</th>\n",
       "    </tr>\n",
       "  </thead>\n",
       "  <tbody>\n",
       "    <tr>\n",
       "      <th>count</th>\n",
       "      <td>4250.000000</td>\n",
       "      <td>4250.000000</td>\n",
       "      <td>4250.000000</td>\n",
       "      <td>4250.000000</td>\n",
       "      <td>4250.000000</td>\n",
       "      <td>4250.000000</td>\n",
       "      <td>4250.000000</td>\n",
       "      <td>4250.000000</td>\n",
       "      <td>4250.000000</td>\n",
       "      <td>4250.000000</td>\n",
       "      <td>4250.000000</td>\n",
       "      <td>4250.000000</td>\n",
       "      <td>4250.000000</td>\n",
       "      <td>4250.000000</td>\n",
       "      <td>4250.000000</td>\n",
       "    </tr>\n",
       "    <tr>\n",
       "      <th>mean</th>\n",
       "      <td>100.236235</td>\n",
       "      <td>7.631765</td>\n",
       "      <td>180.259600</td>\n",
       "      <td>99.907294</td>\n",
       "      <td>30.644682</td>\n",
       "      <td>200.173906</td>\n",
       "      <td>100.176471</td>\n",
       "      <td>17.015012</td>\n",
       "      <td>200.527882</td>\n",
       "      <td>99.839529</td>\n",
       "      <td>9.023892</td>\n",
       "      <td>10.256071</td>\n",
       "      <td>4.426353</td>\n",
       "      <td>2.769654</td>\n",
       "      <td>1.559059</td>\n",
       "    </tr>\n",
       "    <tr>\n",
       "      <th>std</th>\n",
       "      <td>39.698401</td>\n",
       "      <td>13.439882</td>\n",
       "      <td>54.012373</td>\n",
       "      <td>19.850817</td>\n",
       "      <td>9.182096</td>\n",
       "      <td>50.249518</td>\n",
       "      <td>19.908591</td>\n",
       "      <td>4.271212</td>\n",
       "      <td>50.353548</td>\n",
       "      <td>20.093220</td>\n",
       "      <td>2.265922</td>\n",
       "      <td>2.760102</td>\n",
       "      <td>2.463069</td>\n",
       "      <td>0.745204</td>\n",
       "      <td>1.311434</td>\n",
       "    </tr>\n",
       "    <tr>\n",
       "      <th>min</th>\n",
       "      <td>1.000000</td>\n",
       "      <td>0.000000</td>\n",
       "      <td>0.000000</td>\n",
       "      <td>0.000000</td>\n",
       "      <td>0.000000</td>\n",
       "      <td>0.000000</td>\n",
       "      <td>0.000000</td>\n",
       "      <td>0.000000</td>\n",
       "      <td>0.000000</td>\n",
       "      <td>0.000000</td>\n",
       "      <td>0.000000</td>\n",
       "      <td>0.000000</td>\n",
       "      <td>0.000000</td>\n",
       "      <td>0.000000</td>\n",
       "      <td>0.000000</td>\n",
       "    </tr>\n",
       "    <tr>\n",
       "      <th>25%</th>\n",
       "      <td>73.000000</td>\n",
       "      <td>0.000000</td>\n",
       "      <td>143.325000</td>\n",
       "      <td>87.000000</td>\n",
       "      <td>24.365000</td>\n",
       "      <td>165.925000</td>\n",
       "      <td>87.000000</td>\n",
       "      <td>14.102500</td>\n",
       "      <td>167.225000</td>\n",
       "      <td>86.000000</td>\n",
       "      <td>7.522500</td>\n",
       "      <td>8.500000</td>\n",
       "      <td>3.000000</td>\n",
       "      <td>2.300000</td>\n",
       "      <td>1.000000</td>\n",
       "    </tr>\n",
       "    <tr>\n",
       "      <th>50%</th>\n",
       "      <td>100.000000</td>\n",
       "      <td>0.000000</td>\n",
       "      <td>180.450000</td>\n",
       "      <td>100.000000</td>\n",
       "      <td>30.680000</td>\n",
       "      <td>200.700000</td>\n",
       "      <td>100.000000</td>\n",
       "      <td>17.060000</td>\n",
       "      <td>200.450000</td>\n",
       "      <td>100.000000</td>\n",
       "      <td>9.020000</td>\n",
       "      <td>10.300000</td>\n",
       "      <td>4.000000</td>\n",
       "      <td>2.780000</td>\n",
       "      <td>1.000000</td>\n",
       "    </tr>\n",
       "    <tr>\n",
       "      <th>75%</th>\n",
       "      <td>127.000000</td>\n",
       "      <td>16.000000</td>\n",
       "      <td>216.200000</td>\n",
       "      <td>113.000000</td>\n",
       "      <td>36.750000</td>\n",
       "      <td>233.775000</td>\n",
       "      <td>114.000000</td>\n",
       "      <td>19.867500</td>\n",
       "      <td>234.700000</td>\n",
       "      <td>113.000000</td>\n",
       "      <td>10.560000</td>\n",
       "      <td>12.000000</td>\n",
       "      <td>6.000000</td>\n",
       "      <td>3.240000</td>\n",
       "      <td>2.000000</td>\n",
       "    </tr>\n",
       "    <tr>\n",
       "      <th>max</th>\n",
       "      <td>243.000000</td>\n",
       "      <td>52.000000</td>\n",
       "      <td>351.500000</td>\n",
       "      <td>165.000000</td>\n",
       "      <td>59.760000</td>\n",
       "      <td>359.300000</td>\n",
       "      <td>170.000000</td>\n",
       "      <td>30.540000</td>\n",
       "      <td>395.000000</td>\n",
       "      <td>175.000000</td>\n",
       "      <td>17.770000</td>\n",
       "      <td>20.000000</td>\n",
       "      <td>20.000000</td>\n",
       "      <td>5.400000</td>\n",
       "      <td>9.000000</td>\n",
       "    </tr>\n",
       "  </tbody>\n",
       "</table>\n",
       "</div>"
      ],
      "text/plain": [
       "       account_length  number_vmail_messages  total_day_minutes  \\\n",
       "count     4250.000000            4250.000000        4250.000000   \n",
       "mean       100.236235               7.631765         180.259600   \n",
       "std         39.698401              13.439882          54.012373   \n",
       "min          1.000000               0.000000           0.000000   \n",
       "25%         73.000000               0.000000         143.325000   \n",
       "50%        100.000000               0.000000         180.450000   \n",
       "75%        127.000000              16.000000         216.200000   \n",
       "max        243.000000              52.000000         351.500000   \n",
       "\n",
       "       total_day_calls  total_day_charge  total_eve_minutes  total_eve_calls  \\\n",
       "count      4250.000000       4250.000000        4250.000000      4250.000000   \n",
       "mean         99.907294         30.644682         200.173906       100.176471   \n",
       "std          19.850817          9.182096          50.249518        19.908591   \n",
       "min           0.000000          0.000000           0.000000         0.000000   \n",
       "25%          87.000000         24.365000         165.925000        87.000000   \n",
       "50%         100.000000         30.680000         200.700000       100.000000   \n",
       "75%         113.000000         36.750000         233.775000       114.000000   \n",
       "max         165.000000         59.760000         359.300000       170.000000   \n",
       "\n",
       "       total_eve_charge  total_night_minutes  total_night_calls  \\\n",
       "count       4250.000000          4250.000000        4250.000000   \n",
       "mean          17.015012           200.527882          99.839529   \n",
       "std            4.271212            50.353548          20.093220   \n",
       "min            0.000000             0.000000           0.000000   \n",
       "25%           14.102500           167.225000          86.000000   \n",
       "50%           17.060000           200.450000         100.000000   \n",
       "75%           19.867500           234.700000         113.000000   \n",
       "max           30.540000           395.000000         175.000000   \n",
       "\n",
       "       total_night_charge  total_intl_minutes  total_intl_calls  \\\n",
       "count         4250.000000         4250.000000       4250.000000   \n",
       "mean             9.023892           10.256071          4.426353   \n",
       "std              2.265922            2.760102          2.463069   \n",
       "min              0.000000            0.000000          0.000000   \n",
       "25%              7.522500            8.500000          3.000000   \n",
       "50%              9.020000           10.300000          4.000000   \n",
       "75%             10.560000           12.000000          6.000000   \n",
       "max             17.770000           20.000000         20.000000   \n",
       "\n",
       "       total_intl_charge  number_customer_service_calls  \n",
       "count        4250.000000                    4250.000000  \n",
       "mean            2.769654                       1.559059  \n",
       "std             0.745204                       1.311434  \n",
       "min             0.000000                       0.000000  \n",
       "25%             2.300000                       1.000000  \n",
       "50%             2.780000                       1.000000  \n",
       "75%             3.240000                       2.000000  \n",
       "max             5.400000                       9.000000  "
      ]
     },
     "execution_count": 3,
     "metadata": {},
     "output_type": "execute_result"
    }
   ],
   "source": [
    "df.describe()"
   ]
  },
  {
   "cell_type": "code",
   "execution_count": 4,
   "id": "77531241",
   "metadata": {
    "execution": {
     "iopub.execute_input": "2022-04-23T17:53:39.694038Z",
     "iopub.status.busy": "2022-04-23T17:53:39.693505Z",
     "iopub.status.idle": "2022-04-23T17:53:39.712332Z",
     "shell.execute_reply": "2022-04-23T17:53:39.711591Z"
    },
    "papermill": {
     "duration": 0.058317,
     "end_time": "2022-04-23T17:53:39.715163",
     "exception": false,
     "start_time": "2022-04-23T17:53:39.656846",
     "status": "completed"
    },
    "tags": []
   },
   "outputs": [
    {
     "name": "stdout",
     "output_type": "stream",
     "text": [
      "<class 'pandas.core.frame.DataFrame'>\n",
      "RangeIndex: 4250 entries, 0 to 4249\n",
      "Data columns (total 20 columns):\n",
      " #   Column                         Non-Null Count  Dtype  \n",
      "---  ------                         --------------  -----  \n",
      " 0   state                          4250 non-null   object \n",
      " 1   account_length                 4250 non-null   int64  \n",
      " 2   area_code                      4250 non-null   object \n",
      " 3   international_plan             4250 non-null   object \n",
      " 4   voice_mail_plan                4250 non-null   object \n",
      " 5   number_vmail_messages          4250 non-null   int64  \n",
      " 6   total_day_minutes              4250 non-null   float64\n",
      " 7   total_day_calls                4250 non-null   int64  \n",
      " 8   total_day_charge               4250 non-null   float64\n",
      " 9   total_eve_minutes              4250 non-null   float64\n",
      " 10  total_eve_calls                4250 non-null   int64  \n",
      " 11  total_eve_charge               4250 non-null   float64\n",
      " 12  total_night_minutes            4250 non-null   float64\n",
      " 13  total_night_calls              4250 non-null   int64  \n",
      " 14  total_night_charge             4250 non-null   float64\n",
      " 15  total_intl_minutes             4250 non-null   float64\n",
      " 16  total_intl_calls               4250 non-null   int64  \n",
      " 17  total_intl_charge              4250 non-null   float64\n",
      " 18  number_customer_service_calls  4250 non-null   int64  \n",
      " 19  churn                          4250 non-null   object \n",
      "dtypes: float64(8), int64(7), object(5)\n",
      "memory usage: 664.2+ KB\n"
     ]
    }
   ],
   "source": [
    "df.info()"
   ]
  },
  {
   "cell_type": "code",
   "execution_count": 5,
   "id": "a58d9130",
   "metadata": {
    "execution": {
     "iopub.execute_input": "2022-04-23T17:53:39.806918Z",
     "iopub.status.busy": "2022-04-23T17:53:39.806445Z",
     "iopub.status.idle": "2022-04-23T17:53:39.829216Z",
     "shell.execute_reply": "2022-04-23T17:53:39.827551Z"
    },
    "papermill": {
     "duration": 0.073173,
     "end_time": "2022-04-23T17:53:39.832092",
     "exception": false,
     "start_time": "2022-04-23T17:53:39.758919",
     "status": "completed"
    },
    "tags": []
   },
   "outputs": [
    {
     "data": {
      "text/html": [
       "<div>\n",
       "<style scoped>\n",
       "    .dataframe tbody tr th:only-of-type {\n",
       "        vertical-align: middle;\n",
       "    }\n",
       "\n",
       "    .dataframe tbody tr th {\n",
       "        vertical-align: top;\n",
       "    }\n",
       "\n",
       "    .dataframe thead th {\n",
       "        text-align: right;\n",
       "    }\n",
       "</style>\n",
       "<table border=\"1\" class=\"dataframe\">\n",
       "  <thead>\n",
       "    <tr style=\"text-align: right;\">\n",
       "      <th></th>\n",
       "      <th>state</th>\n",
       "      <th>account_length</th>\n",
       "      <th>area_code</th>\n",
       "      <th>international_plan</th>\n",
       "      <th>voice_mail_plan</th>\n",
       "      <th>number_vmail_messages</th>\n",
       "      <th>total_day_minutes</th>\n",
       "      <th>total_day_calls</th>\n",
       "      <th>total_day_charge</th>\n",
       "      <th>total_eve_minutes</th>\n",
       "      <th>total_eve_calls</th>\n",
       "      <th>total_eve_charge</th>\n",
       "      <th>total_night_minutes</th>\n",
       "      <th>total_night_calls</th>\n",
       "      <th>total_night_charge</th>\n",
       "      <th>total_intl_minutes</th>\n",
       "      <th>total_intl_calls</th>\n",
       "      <th>total_intl_charge</th>\n",
       "      <th>number_customer_service_calls</th>\n",
       "      <th>churn</th>\n",
       "    </tr>\n",
       "  </thead>\n",
       "  <tbody>\n",
       "    <tr>\n",
       "      <th>0</th>\n",
       "      <td>OH</td>\n",
       "      <td>107</td>\n",
       "      <td>area_code_415</td>\n",
       "      <td>no</td>\n",
       "      <td>yes</td>\n",
       "      <td>26</td>\n",
       "      <td>161.6</td>\n",
       "      <td>123</td>\n",
       "      <td>27.47</td>\n",
       "      <td>195.5</td>\n",
       "      <td>103</td>\n",
       "      <td>16.62</td>\n",
       "      <td>254.4</td>\n",
       "      <td>103</td>\n",
       "      <td>11.45</td>\n",
       "      <td>13.7</td>\n",
       "      <td>3</td>\n",
       "      <td>3.70</td>\n",
       "      <td>1</td>\n",
       "      <td>no</td>\n",
       "    </tr>\n",
       "    <tr>\n",
       "      <th>1</th>\n",
       "      <td>NJ</td>\n",
       "      <td>137</td>\n",
       "      <td>area_code_415</td>\n",
       "      <td>no</td>\n",
       "      <td>no</td>\n",
       "      <td>0</td>\n",
       "      <td>243.4</td>\n",
       "      <td>114</td>\n",
       "      <td>41.38</td>\n",
       "      <td>121.2</td>\n",
       "      <td>110</td>\n",
       "      <td>10.30</td>\n",
       "      <td>162.6</td>\n",
       "      <td>104</td>\n",
       "      <td>7.32</td>\n",
       "      <td>12.2</td>\n",
       "      <td>5</td>\n",
       "      <td>3.29</td>\n",
       "      <td>0</td>\n",
       "      <td>no</td>\n",
       "    </tr>\n",
       "    <tr>\n",
       "      <th>2</th>\n",
       "      <td>OH</td>\n",
       "      <td>84</td>\n",
       "      <td>area_code_408</td>\n",
       "      <td>yes</td>\n",
       "      <td>no</td>\n",
       "      <td>0</td>\n",
       "      <td>299.4</td>\n",
       "      <td>71</td>\n",
       "      <td>50.90</td>\n",
       "      <td>61.9</td>\n",
       "      <td>88</td>\n",
       "      <td>5.26</td>\n",
       "      <td>196.9</td>\n",
       "      <td>89</td>\n",
       "      <td>8.86</td>\n",
       "      <td>6.6</td>\n",
       "      <td>7</td>\n",
       "      <td>1.78</td>\n",
       "      <td>2</td>\n",
       "      <td>no</td>\n",
       "    </tr>\n",
       "    <tr>\n",
       "      <th>3</th>\n",
       "      <td>OK</td>\n",
       "      <td>75</td>\n",
       "      <td>area_code_415</td>\n",
       "      <td>yes</td>\n",
       "      <td>no</td>\n",
       "      <td>0</td>\n",
       "      <td>166.7</td>\n",
       "      <td>113</td>\n",
       "      <td>28.34</td>\n",
       "      <td>148.3</td>\n",
       "      <td>122</td>\n",
       "      <td>12.61</td>\n",
       "      <td>186.9</td>\n",
       "      <td>121</td>\n",
       "      <td>8.41</td>\n",
       "      <td>10.1</td>\n",
       "      <td>3</td>\n",
       "      <td>2.73</td>\n",
       "      <td>3</td>\n",
       "      <td>no</td>\n",
       "    </tr>\n",
       "    <tr>\n",
       "      <th>4</th>\n",
       "      <td>MA</td>\n",
       "      <td>121</td>\n",
       "      <td>area_code_510</td>\n",
       "      <td>no</td>\n",
       "      <td>yes</td>\n",
       "      <td>24</td>\n",
       "      <td>218.2</td>\n",
       "      <td>88</td>\n",
       "      <td>37.09</td>\n",
       "      <td>348.5</td>\n",
       "      <td>108</td>\n",
       "      <td>29.62</td>\n",
       "      <td>212.6</td>\n",
       "      <td>118</td>\n",
       "      <td>9.57</td>\n",
       "      <td>7.5</td>\n",
       "      <td>7</td>\n",
       "      <td>2.03</td>\n",
       "      <td>3</td>\n",
       "      <td>no</td>\n",
       "    </tr>\n",
       "  </tbody>\n",
       "</table>\n",
       "</div>"
      ],
      "text/plain": [
       "  state  account_length      area_code international_plan voice_mail_plan  \\\n",
       "0    OH             107  area_code_415                 no             yes   \n",
       "1    NJ             137  area_code_415                 no              no   \n",
       "2    OH              84  area_code_408                yes              no   \n",
       "3    OK              75  area_code_415                yes              no   \n",
       "4    MA             121  area_code_510                 no             yes   \n",
       "\n",
       "   number_vmail_messages  total_day_minutes  total_day_calls  \\\n",
       "0                     26              161.6              123   \n",
       "1                      0              243.4              114   \n",
       "2                      0              299.4               71   \n",
       "3                      0              166.7              113   \n",
       "4                     24              218.2               88   \n",
       "\n",
       "   total_day_charge  total_eve_minutes  total_eve_calls  total_eve_charge  \\\n",
       "0             27.47              195.5              103             16.62   \n",
       "1             41.38              121.2              110             10.30   \n",
       "2             50.90               61.9               88              5.26   \n",
       "3             28.34              148.3              122             12.61   \n",
       "4             37.09              348.5              108             29.62   \n",
       "\n",
       "   total_night_minutes  total_night_calls  total_night_charge  \\\n",
       "0                254.4                103               11.45   \n",
       "1                162.6                104                7.32   \n",
       "2                196.9                 89                8.86   \n",
       "3                186.9                121                8.41   \n",
       "4                212.6                118                9.57   \n",
       "\n",
       "   total_intl_minutes  total_intl_calls  total_intl_charge  \\\n",
       "0                13.7                 3               3.70   \n",
       "1                12.2                 5               3.29   \n",
       "2                 6.6                 7               1.78   \n",
       "3                10.1                 3               2.73   \n",
       "4                 7.5                 7               2.03   \n",
       "\n",
       "   number_customer_service_calls churn  \n",
       "0                              1    no  \n",
       "1                              0    no  \n",
       "2                              2    no  \n",
       "3                              3    no  \n",
       "4                              3    no  "
      ]
     },
     "execution_count": 5,
     "metadata": {},
     "output_type": "execute_result"
    }
   ],
   "source": [
    "df.head()"
   ]
  },
  {
   "attachments": {},
   "cell_type": "markdown",
   "id": "107f43a0",
   "metadata": {
    "papermill": {
     "duration": 0.028859,
     "end_time": "2022-04-23T17:53:39.890181",
     "exception": false,
     "start_time": "2022-04-23T17:53:39.861322",
     "status": "completed"
    },
    "tags": []
   },
   "source": [
    "# 2. Cleaning the dataset \n",
    "* first calculate the total_net_minutes to reduce the number of features; we are going to do the same with calls, and charge \n",
    "* second we are going to convert all yes, no strings into ints such as in columns (voice_mail_plan, international_plan, and churn)\n",
    "* then we are going to convert the categorical values into onehote vectors such as (state, and area_code)\n",
    "* lastly drop all repeted features and useless columns such as area (code and state)   \n"
   ]
  },
  {
   "cell_type": "code",
   "execution_count": 6,
   "id": "b53cded2",
   "metadata": {
    "execution": {
     "iopub.execute_input": "2022-04-23T17:53:39.951815Z",
     "iopub.status.busy": "2022-04-23T17:53:39.951391Z",
     "iopub.status.idle": "2022-04-23T17:53:39.959257Z",
     "shell.execute_reply": "2022-04-23T17:53:39.958162Z"
    },
    "papermill": {
     "duration": 0.041409,
     "end_time": "2022-04-23T17:53:39.961256",
     "exception": false,
     "start_time": "2022-04-23T17:53:39.919847",
     "status": "completed"
    },
    "tags": []
   },
   "outputs": [],
   "source": [
    "def clean_Data(df):    \n",
    "    df['total_net_minutes'] = df['total_day_minutes'] + df['total_eve_minutes'] + df['total_night_minutes']\n",
    "    df['total_net_calls'] = df['total_day_calls'] + df['total_eve_calls'] + df['total_night_calls']\n",
    "    df['total_net_charge'] = df['total_day_charge'] + df['total_eve_charge'] + df['total_night_charge']\n",
    "\n",
    "\n",
    "    df['voice_mail_plan'] = df['voice_mail_plan'].map({'yes': 1, 'no': 0}) \n",
    "    df['international_plan'] = df['international_plan'].map({'yes': 1, 'no': 0}) \n",
    "\n",
    "    df.drop(columns= ['state', 'area_code'], inplace= True)\n",
    "    #df.area_code = pd.Categorical(df.area_code).codes\n",
    "\n",
    "\n",
    "\n",
    "    df.drop(columns=['total_day_charge', 'total_eve_charge','total_night_charge',\n",
    "                    'total_day_calls','total_eve_calls', 'total_night_calls', 'total_day_minutes', \n",
    "                     'total_eve_minutes', 'total_night_minutes'], inplace=True)\n",
    "    return df\n",
    "\n"
   ]
  },
  {
   "cell_type": "code",
   "execution_count": 7,
   "id": "9085f3a2",
   "metadata": {
    "execution": {
     "iopub.execute_input": "2022-04-23T17:53:40.021620Z",
     "iopub.status.busy": "2022-04-23T17:53:40.021121Z",
     "iopub.status.idle": "2022-04-23T17:53:40.027011Z",
     "shell.execute_reply": "2022-04-23T17:53:40.026393Z"
    },
    "papermill": {
     "duration": 0.037344,
     "end_time": "2022-04-23T17:53:40.028617",
     "exception": false,
     "start_time": "2022-04-23T17:53:39.991273",
     "status": "completed"
    },
    "tags": []
   },
   "outputs": [
    {
     "data": {
      "text/plain": [
       "Index(['state', 'account_length', 'area_code', 'international_plan',\n",
       "       'voice_mail_plan', 'number_vmail_messages', 'total_day_minutes',\n",
       "       'total_day_calls', 'total_day_charge', 'total_eve_minutes',\n",
       "       'total_eve_calls', 'total_eve_charge', 'total_night_minutes',\n",
       "       'total_night_calls', 'total_night_charge', 'total_intl_minutes',\n",
       "       'total_intl_calls', 'total_intl_charge',\n",
       "       'number_customer_service_calls', 'churn'],\n",
       "      dtype='object')"
      ]
     },
     "execution_count": 7,
     "metadata": {},
     "output_type": "execute_result"
    }
   ],
   "source": [
    "df.columns"
   ]
  },
  {
   "attachments": {},
   "cell_type": "markdown",
   "id": "69997869",
   "metadata": {
    "papermill": {
     "duration": 0.027965,
     "end_time": "2022-04-23T17:53:40.086104",
     "exception": false,
     "start_time": "2022-04-23T17:53:40.058139",
     "status": "completed"
    },
    "tags": []
   },
   "source": [
    "# 3. Spliting the data \n",
    "* we are going to use sklearn to split the data \n",
    "* first we need to split the dataframe into x, y \n",
    "* then use train-test-spilt function to split the data \n",
    "* use random state to have same data each time you run the program \n",
    "* use stratify to cut the data with the same portion\n"
   ]
  },
  {
   "cell_type": "code",
   "execution_count": 8,
   "id": "b66bbbd3",
   "metadata": {
    "execution": {
     "iopub.execute_input": "2022-04-23T17:53:40.146028Z",
     "iopub.status.busy": "2022-04-23T17:53:40.145513Z",
     "iopub.status.idle": "2022-04-23T17:53:41.351678Z",
     "shell.execute_reply": "2022-04-23T17:53:41.350330Z"
    },
    "papermill": {
     "duration": 1.238283,
     "end_time": "2022-04-23T17:53:41.353980",
     "exception": false,
     "start_time": "2022-04-23T17:53:40.115697",
     "status": "completed"
    },
    "tags": []
   },
   "outputs": [
    {
     "data": {
      "text/plain": [
       "(no     2739\n",
       " yes     448\n",
       " Name: churn, dtype: int64,\n",
       " no     913\n",
       " yes    150\n",
       " Name: churn, dtype: int64)"
      ]
     },
     "execution_count": 8,
     "metadata": {},
     "output_type": "execute_result"
    }
   ],
   "source": [
    "from sklearn.model_selection import train_test_split \n",
    "\n",
    "X = df.drop(columns= ['churn'])\n",
    "y = df['churn']\n",
    "\n",
    "x_train, x_val, y_train, y_val = train_test_split(X, y , test_size=.25, stratify= y, random_state=1) \n",
    "y_train.value_counts(), y_val.value_counts()"
   ]
  },
  {
   "attachments": {},
   "cell_type": "markdown",
   "id": "9f8823f9",
   "metadata": {
    "papermill": {
     "duration": 0.028772,
     "end_time": "2022-04-23T17:53:41.414028",
     "exception": false,
     "start_time": "2022-04-23T17:53:41.385256",
     "status": "completed"
    },
    "tags": []
   },
   "source": [
    "# 4. Cleaning by the clean function "
   ]
  },
  {
   "cell_type": "code",
   "execution_count": 9,
   "id": "071bf954",
   "metadata": {
    "execution": {
     "iopub.execute_input": "2022-04-23T17:53:41.472653Z",
     "iopub.status.busy": "2022-04-23T17:53:41.472161Z",
     "iopub.status.idle": "2022-04-23T17:53:41.518699Z",
     "shell.execute_reply": "2022-04-23T17:53:41.517256Z"
    },
    "papermill": {
     "duration": 0.078053,
     "end_time": "2022-04-23T17:53:41.520641",
     "exception": false,
     "start_time": "2022-04-23T17:53:41.442588",
     "status": "completed"
    },
    "tags": []
   },
   "outputs": [
    {
     "name": "stdout",
     "output_type": "stream",
     "text": [
      "no     3854\n",
      "yes     396\n",
      "Name: international_plan, dtype: int64\n"
     ]
    },
    {
     "data": {
      "text/html": [
       "<div>\n",
       "<style scoped>\n",
       "    .dataframe tbody tr th:only-of-type {\n",
       "        vertical-align: middle;\n",
       "    }\n",
       "\n",
       "    .dataframe tbody tr th {\n",
       "        vertical-align: top;\n",
       "    }\n",
       "\n",
       "    .dataframe thead th {\n",
       "        text-align: right;\n",
       "    }\n",
       "</style>\n",
       "<table border=\"1\" class=\"dataframe\">\n",
       "  <thead>\n",
       "    <tr style=\"text-align: right;\">\n",
       "      <th></th>\n",
       "      <th>state</th>\n",
       "      <th>account_length</th>\n",
       "      <th>area_code</th>\n",
       "      <th>international_plan</th>\n",
       "      <th>voice_mail_plan</th>\n",
       "      <th>number_vmail_messages</th>\n",
       "      <th>total_day_minutes</th>\n",
       "      <th>total_day_calls</th>\n",
       "      <th>total_day_charge</th>\n",
       "      <th>total_eve_minutes</th>\n",
       "      <th>total_eve_calls</th>\n",
       "      <th>total_eve_charge</th>\n",
       "      <th>total_night_minutes</th>\n",
       "      <th>total_night_calls</th>\n",
       "      <th>total_night_charge</th>\n",
       "      <th>total_intl_minutes</th>\n",
       "      <th>total_intl_calls</th>\n",
       "      <th>total_intl_charge</th>\n",
       "      <th>number_customer_service_calls</th>\n",
       "      <th>churn</th>\n",
       "    </tr>\n",
       "  </thead>\n",
       "  <tbody>\n",
       "    <tr>\n",
       "      <th>0</th>\n",
       "      <td>OH</td>\n",
       "      <td>107</td>\n",
       "      <td>area_code_415</td>\n",
       "      <td>no</td>\n",
       "      <td>yes</td>\n",
       "      <td>26</td>\n",
       "      <td>161.6</td>\n",
       "      <td>123</td>\n",
       "      <td>27.47</td>\n",
       "      <td>195.5</td>\n",
       "      <td>103</td>\n",
       "      <td>16.62</td>\n",
       "      <td>254.4</td>\n",
       "      <td>103</td>\n",
       "      <td>11.45</td>\n",
       "      <td>13.7</td>\n",
       "      <td>3</td>\n",
       "      <td>3.70</td>\n",
       "      <td>1</td>\n",
       "      <td>no</td>\n",
       "    </tr>\n",
       "    <tr>\n",
       "      <th>1</th>\n",
       "      <td>NJ</td>\n",
       "      <td>137</td>\n",
       "      <td>area_code_415</td>\n",
       "      <td>no</td>\n",
       "      <td>no</td>\n",
       "      <td>0</td>\n",
       "      <td>243.4</td>\n",
       "      <td>114</td>\n",
       "      <td>41.38</td>\n",
       "      <td>121.2</td>\n",
       "      <td>110</td>\n",
       "      <td>10.30</td>\n",
       "      <td>162.6</td>\n",
       "      <td>104</td>\n",
       "      <td>7.32</td>\n",
       "      <td>12.2</td>\n",
       "      <td>5</td>\n",
       "      <td>3.29</td>\n",
       "      <td>0</td>\n",
       "      <td>no</td>\n",
       "    </tr>\n",
       "    <tr>\n",
       "      <th>2</th>\n",
       "      <td>OH</td>\n",
       "      <td>84</td>\n",
       "      <td>area_code_408</td>\n",
       "      <td>yes</td>\n",
       "      <td>no</td>\n",
       "      <td>0</td>\n",
       "      <td>299.4</td>\n",
       "      <td>71</td>\n",
       "      <td>50.90</td>\n",
       "      <td>61.9</td>\n",
       "      <td>88</td>\n",
       "      <td>5.26</td>\n",
       "      <td>196.9</td>\n",
       "      <td>89</td>\n",
       "      <td>8.86</td>\n",
       "      <td>6.6</td>\n",
       "      <td>7</td>\n",
       "      <td>1.78</td>\n",
       "      <td>2</td>\n",
       "      <td>no</td>\n",
       "    </tr>\n",
       "    <tr>\n",
       "      <th>3</th>\n",
       "      <td>OK</td>\n",
       "      <td>75</td>\n",
       "      <td>area_code_415</td>\n",
       "      <td>yes</td>\n",
       "      <td>no</td>\n",
       "      <td>0</td>\n",
       "      <td>166.7</td>\n",
       "      <td>113</td>\n",
       "      <td>28.34</td>\n",
       "      <td>148.3</td>\n",
       "      <td>122</td>\n",
       "      <td>12.61</td>\n",
       "      <td>186.9</td>\n",
       "      <td>121</td>\n",
       "      <td>8.41</td>\n",
       "      <td>10.1</td>\n",
       "      <td>3</td>\n",
       "      <td>2.73</td>\n",
       "      <td>3</td>\n",
       "      <td>no</td>\n",
       "    </tr>\n",
       "    <tr>\n",
       "      <th>4</th>\n",
       "      <td>MA</td>\n",
       "      <td>121</td>\n",
       "      <td>area_code_510</td>\n",
       "      <td>no</td>\n",
       "      <td>yes</td>\n",
       "      <td>24</td>\n",
       "      <td>218.2</td>\n",
       "      <td>88</td>\n",
       "      <td>37.09</td>\n",
       "      <td>348.5</td>\n",
       "      <td>108</td>\n",
       "      <td>29.62</td>\n",
       "      <td>212.6</td>\n",
       "      <td>118</td>\n",
       "      <td>9.57</td>\n",
       "      <td>7.5</td>\n",
       "      <td>7</td>\n",
       "      <td>2.03</td>\n",
       "      <td>3</td>\n",
       "      <td>no</td>\n",
       "    </tr>\n",
       "  </tbody>\n",
       "</table>\n",
       "</div>"
      ],
      "text/plain": [
       "  state  account_length      area_code international_plan voice_mail_plan  \\\n",
       "0    OH             107  area_code_415                 no             yes   \n",
       "1    NJ             137  area_code_415                 no              no   \n",
       "2    OH              84  area_code_408                yes              no   \n",
       "3    OK              75  area_code_415                yes              no   \n",
       "4    MA             121  area_code_510                 no             yes   \n",
       "\n",
       "   number_vmail_messages  total_day_minutes  total_day_calls  \\\n",
       "0                     26              161.6              123   \n",
       "1                      0              243.4              114   \n",
       "2                      0              299.4               71   \n",
       "3                      0              166.7              113   \n",
       "4                     24              218.2               88   \n",
       "\n",
       "   total_day_charge  total_eve_minutes  total_eve_calls  total_eve_charge  \\\n",
       "0             27.47              195.5              103             16.62   \n",
       "1             41.38              121.2              110             10.30   \n",
       "2             50.90               61.9               88              5.26   \n",
       "3             28.34              148.3              122             12.61   \n",
       "4             37.09              348.5              108             29.62   \n",
       "\n",
       "   total_night_minutes  total_night_calls  total_night_charge  \\\n",
       "0                254.4                103               11.45   \n",
       "1                162.6                104                7.32   \n",
       "2                196.9                 89                8.86   \n",
       "3                186.9                121                8.41   \n",
       "4                212.6                118                9.57   \n",
       "\n",
       "   total_intl_minutes  total_intl_calls  total_intl_charge  \\\n",
       "0                13.7                 3               3.70   \n",
       "1                12.2                 5               3.29   \n",
       "2                 6.6                 7               1.78   \n",
       "3                10.1                 3               2.73   \n",
       "4                 7.5                 7               2.03   \n",
       "\n",
       "   number_customer_service_calls churn  \n",
       "0                              1    no  \n",
       "1                              0    no  \n",
       "2                              2    no  \n",
       "3                              3    no  \n",
       "4                              3    no  "
      ]
     },
     "execution_count": 9,
     "metadata": {},
     "output_type": "execute_result"
    }
   ],
   "source": [
    "x_train  = clean_Data(x_train)\n",
    "y_train = pd.Categorical(y_train).codes\n",
    "\n",
    "x_val  = clean_Data(x_val)\n",
    "y_val= pd.Categorical(y_val).codes\n",
    "\n",
    "print(df.international_plan.value_counts())\n",
    "df.head()"
   ]
  },
  {
   "attachments": {},
   "cell_type": "markdown",
   "id": "af2b6951",
   "metadata": {
    "papermill": {
     "duration": 0.030293,
     "end_time": "2022-04-23T17:53:41.581748",
     "exception": false,
     "start_time": "2022-04-23T17:53:41.551455",
     "status": "completed"
    },
    "tags": []
   },
   "source": [
    "# 5. display all numerical columns in the data"
   ]
  },
  {
   "cell_type": "code",
   "execution_count": 10,
   "id": "7e32d287",
   "metadata": {
    "execution": {
     "iopub.execute_input": "2022-04-23T17:53:41.643818Z",
     "iopub.status.busy": "2022-04-23T17:53:41.643436Z",
     "iopub.status.idle": "2022-04-23T17:53:44.822528Z",
     "shell.execute_reply": "2022-04-23T17:53:44.821586Z"
    },
    "papermill": {
     "duration": 3.213188,
     "end_time": "2022-04-23T17:53:44.824484",
     "exception": false,
     "start_time": "2022-04-23T17:53:41.611296",
     "status": "completed"
    },
    "tags": []
   },
   "outputs": [
    {
     "data": {
      "image/png": "[encoded data removed]",
      "text/plain": [
       "<Figure size 1440x1440 with 12 Axes>"
      ]
     },
     "metadata": {},
     "output_type": "display_data"
    }
   ],
   "source": [
    "import seaborn as sns\n",
    "sns.set_style('dark')\n",
    "temp = x_train[['account_length', 'international_plan','voice_mail_plan', 'number_vmail_messages', \n",
    "           'total_net_minutes','total_net_calls', 'total_net_charge','total_intl_minutes',\n",
    "       'total_intl_calls', 'total_intl_charge','number_customer_service_calls' ]]\n",
    "temp.hist(bins=50,figsize=(20,20),color='navy');"
   ]
  },
  {
   "attachments": {},
   "cell_type": "markdown",
   "id": "1de4734f",
   "metadata": {
    "papermill": {
     "duration": 0.03184,
     "end_time": "2022-04-23T17:53:44.888846",
     "exception": false,
     "start_time": "2022-04-23T17:53:44.857006",
     "status": "completed"
    },
    "tags": []
   },
   "source": [
    "# 6. Modeling "
   ]
  },
  {
   "attachments": {},
   "cell_type": "markdown",
   "id": "0c7eb5e0",
   "metadata": {
    "papermill": {
     "duration": 0.032047,
     "end_time": "2022-04-23T17:53:44.953619",
     "exception": false,
     "start_time": "2022-04-23T17:53:44.921572",
     "status": "completed"
    },
    "tags": []
   },
   "source": [
    "## LogisticRegression"
   ]
  },
  {
   "cell_type": "code",
   "execution_count": 11,
   "id": "58f1243d",
   "metadata": {
    "execution": {
     "iopub.execute_input": "2022-04-23T17:53:45.020170Z",
     "iopub.status.busy": "2022-04-23T17:53:45.019259Z",
     "iopub.status.idle": "2022-04-23T17:53:45.252814Z",
     "shell.execute_reply": "2022-04-23T17:53:45.252142Z"
    },
    "papermill": {
     "duration": 0.270273,
     "end_time": "2022-04-23T17:53:45.256154",
     "exception": false,
     "start_time": "2022-04-23T17:53:44.985881",
     "status": "completed"
    },
    "tags": []
   },
   "outputs": [
    {
     "name": "stderr",
     "output_type": "stream",
     "text": [
      "/opt/conda/lib/python3.7/site-packages/sklearn/linear_model/_logistic.py:818: ConvergenceWarning: lbfgs failed to converge (status=1):\n",
      "STOP: TOTAL NO. of ITERATIONS REACHED LIMIT.\n",
      "\n",
      "Increase the number of iterations (max_iter) or scale the data as shown in:\n",
      "    https://scikit-learn.org/stable/modules/preprocessing.html\n",
      "Please also refer to the documentation for alternative solver options:\n",
      "    https://scikit-learn.org/stable/modules/linear_model.html#logistic-regression\n",
      "  extra_warning_msg=_LOGISTIC_SOLVER_CONVERGENCE_MSG,\n"
     ]
    },
    {
     "data": {
      "text/plain": [
       "0.8657044242234075"
      ]
     },
     "execution_count": 11,
     "metadata": {},
     "output_type": "execute_result"
    }
   ],
   "source": [
    "from sklearn.linear_model import LogisticRegression\n",
    "\n",
    "lr  = LogisticRegression(max_iter=300,)\n",
    "lr .fit(x_train,y_train )\n",
    "lr .score(x_train, y_train)"
   ]
  },
  {
   "cell_type": "code",
   "execution_count": 12,
   "id": "7fef0b0b",
   "metadata": {
    "execution": {
     "iopub.execute_input": "2022-04-23T17:53:45.349476Z",
     "iopub.status.busy": "2022-04-23T17:53:45.349207Z",
     "iopub.status.idle": "2022-04-23T17:53:45.358502Z",
     "shell.execute_reply": "2022-04-23T17:53:45.357847Z"
    },
    "papermill": {
     "duration": 0.060375,
     "end_time": "2022-04-23T17:53:45.360493",
     "exception": false,
     "start_time": "2022-04-23T17:53:45.300118",
     "status": "completed"
    },
    "tags": []
   },
   "outputs": [
    {
     "data": {
      "text/plain": [
       "0.8570084666039511"
      ]
     },
     "execution_count": 12,
     "metadata": {},
     "output_type": "execute_result"
    }
   ],
   "source": [
    "pre = lr .predict(x_val)\n",
    "score = [i for i, j in zip(pre, y_val) if i == j]\n",
    "\n",
    "score = len(score)/len(y_val)\n",
    "score"
   ]
  },
  {
   "attachments": {},
   "cell_type": "markdown",
   "id": "3dc5e983",
   "metadata": {
    "papermill": {
     "duration": 0.043832,
     "end_time": "2022-04-23T17:53:45.450274",
     "exception": false,
     "start_time": "2022-04-23T17:53:45.406442",
     "status": "completed"
    },
    "tags": []
   },
   "source": [
    "## RandomForestClassifier "
   ]
  },
  {
   "cell_type": "code",
   "execution_count": 13,
   "id": "0039df2b",
   "metadata": {
    "execution": {
     "iopub.execute_input": "2022-04-23T17:53:45.527782Z",
     "iopub.status.busy": "2022-04-23T17:53:45.527507Z",
     "iopub.status.idle": "2022-04-23T17:53:46.298001Z",
     "shell.execute_reply": "2022-04-23T17:53:46.296926Z"
    },
    "papermill": {
     "duration": 0.809412,
     "end_time": "2022-04-23T17:53:46.299745",
     "exception": false,
     "start_time": "2022-04-23T17:53:45.490333",
     "status": "completed"
    },
    "tags": []
   },
   "outputs": [
    {
     "data": {
      "text/plain": [
       "1.0"
      ]
     },
     "execution_count": 13,
     "metadata": {},
     "output_type": "execute_result"
    }
   ],
   "source": [
    "from sklearn.ensemble import RandomForestClassifier\n",
    "clf = RandomForestClassifier()\n",
    "clf.fit(x_train,y_train )\n",
    "clf.score(x_train, y_train)"
   ]
  },
  {
   "cell_type": "code",
   "execution_count": 14,
   "id": "d733ec5e",
   "metadata": {
    "execution": {
     "iopub.execute_input": "2022-04-23T17:53:46.368307Z",
     "iopub.status.busy": "2022-04-23T17:53:46.367849Z",
     "iopub.status.idle": "2022-04-23T17:53:46.399759Z",
     "shell.execute_reply": "2022-04-23T17:53:46.398383Z"
    },
    "papermill": {
     "duration": 0.069539,
     "end_time": "2022-04-23T17:53:46.402423",
     "exception": false,
     "start_time": "2022-04-23T17:53:46.332884",
     "status": "completed"
    },
    "tags": []
   },
   "outputs": [
    {
     "data": {
      "text/plain": [
       "0.9774223894637818"
      ]
     },
     "execution_count": 14,
     "metadata": {},
     "output_type": "execute_result"
    }
   ],
   "source": [
    "pre = clf.predict(x_val)\n",
    "score = [i for i, j in zip(pre, y_val) if i == j]\n",
    "\n",
    "score = len(score)/len(y_val)\n",
    "score"
   ]
  },
  {
   "attachments": {},
   "cell_type": "markdown",
   "id": "fa5a1f36",
   "metadata": {
    "papermill": {
     "duration": 0.03365,
     "end_time": "2022-04-23T17:53:46.470375",
     "exception": false,
     "start_time": "2022-04-23T17:53:46.436725",
     "status": "completed"
    },
    "tags": []
   },
   "source": [
    "## GradientBoostingClassifier\n"
   ]
  },
  {
   "cell_type": "code",
   "execution_count": 15,
   "id": "ddb24a89",
   "metadata": {
    "execution": {
     "iopub.execute_input": "2022-04-23T17:53:46.540877Z",
     "iopub.status.busy": "2022-04-23T17:53:46.540254Z",
     "iopub.status.idle": "2022-04-23T17:53:58.132797Z",
     "shell.execute_reply": "2022-04-23T17:53:58.131381Z"
    },
    "papermill": {
     "duration": 11.630985,
     "end_time": "2022-04-23T17:53:58.135469",
     "exception": false,
     "start_time": "2022-04-23T17:53:46.504484",
     "status": "completed"
    },
    "tags": []
   },
   "outputs": [
    {
     "data": {
      "text/plain": [
       "0.9996862252902416"
      ]
     },
     "execution_count": 15,
     "metadata": {},
     "output_type": "execute_result"
    }
   ],
   "source": [
    "from sklearn.ensemble import GradientBoostingClassifier\n",
    "\n",
    "xg = GradientBoostingClassifier(learning_rate=0.01, n_estimators=400,max_depth=13)\n",
    "xg.fit(x_train,y_train )\n",
    "xg.score(x_train, y_train)"
   ]
  },
  {
   "cell_type": "code",
   "execution_count": 16,
   "id": "14095366",
   "metadata": {
    "execution": {
     "iopub.execute_input": "2022-04-23T17:53:58.209230Z",
     "iopub.status.busy": "2022-04-23T17:53:58.208910Z",
     "iopub.status.idle": "2022-04-23T17:53:58.241351Z",
     "shell.execute_reply": "2022-04-23T17:53:58.240316Z"
    },
    "papermill": {
     "duration": 0.071304,
     "end_time": "2022-04-23T17:53:58.243334",
     "exception": false,
     "start_time": "2022-04-23T17:53:58.172030",
     "status": "completed"
    },
    "tags": []
   },
   "outputs": [
    {
     "data": {
      "text/plain": [
       "0.9774223894637818"
      ]
     },
     "execution_count": 16,
     "metadata": {},
     "output_type": "execute_result"
    }
   ],
   "source": [
    "pre = xg.predict(x_val)\n",
    "score = [i for i, j in zip(pre, y_val) if i == j]\n",
    "\n",
    "score = len(score)/len(y_val)\n",
    "score"
   ]
  },
  {
   "attachments": {},
   "cell_type": "markdown",
   "id": "27007192",
   "metadata": {
    "papermill": {
     "duration": 0.03461,
     "end_time": "2022-04-23T17:53:58.313012",
     "exception": false,
     "start_time": "2022-04-23T17:53:58.278402",
     "status": "completed"
    },
    "tags": []
   },
   "source": [
    "# 7. Testing "
   ]
  },
  {
   "cell_type": "code",
   "execution_count": 17,
   "id": "1913dba4",
   "metadata": {
    "execution": {
     "iopub.execute_input": "2022-04-23T17:53:58.386015Z",
     "iopub.status.busy": "2022-04-23T17:53:58.385692Z",
     "iopub.status.idle": "2022-04-23T17:53:58.407077Z",
     "shell.execute_reply": "2022-04-23T17:53:58.405529Z"
    },
    "papermill": {
     "duration": 0.061025,
     "end_time": "2022-04-23T17:53:58.409748",
     "exception": false,
     "start_time": "2022-04-23T17:53:58.348723",
     "status": "completed"
    },
    "tags": []
   },
   "outputs": [],
   "source": [
    "test = pd.read_csv('../input/customer-churn-prediction-2020/test.csv')\n",
    "x_test =test.drop(columns='id')"
   ]
  },
  {
   "cell_type": "markdown",
   "id": "382c96bb",
   "metadata": {
    "papermill": {
     "duration": 0.034282,
     "end_time": "2022-04-23T17:53:58.479132",
     "exception": false,
     "start_time": "2022-04-23T17:53:58.444850",
     "status": "completed"
    },
    "tags": []
   },
   "source": [
    "# Test cleaning \n",
    "**clean the test data using the same function we used for train data cleaning**"
   ]
  },
  {
   "cell_type": "code",
   "execution_count": 18,
   "id": "7c9ff6fa",
   "metadata": {
    "execution": {
     "iopub.execute_input": "2022-04-23T17:53:58.552234Z",
     "iopub.status.busy": "2022-04-23T17:53:58.551881Z",
     "iopub.status.idle": "2022-04-23T17:53:58.578318Z",
     "shell.execute_reply": "2022-04-23T17:53:58.577565Z"
    },
    "papermill": {
     "duration": 0.065339,
     "end_time": "2022-04-23T17:53:58.579977",
     "exception": false,
     "start_time": "2022-04-23T17:53:58.514638",
     "status": "completed"
    },
    "tags": []
   },
   "outputs": [
    {
     "data": {
      "text/html": [
       "<div>\n",
       "<style scoped>\n",
       "    .dataframe tbody tr th:only-of-type {\n",
       "        vertical-align: middle;\n",
       "    }\n",
       "\n",
       "    .dataframe tbody tr th {\n",
       "        vertical-align: top;\n",
       "    }\n",
       "\n",
       "    .dataframe thead th {\n",
       "        text-align: right;\n",
       "    }\n",
       "</style>\n",
       "<table border=\"1\" class=\"dataframe\">\n",
       "  <thead>\n",
       "    <tr style=\"text-align: right;\">\n",
       "      <th></th>\n",
       "      <th>account_length</th>\n",
       "      <th>international_plan</th>\n",
       "      <th>voice_mail_plan</th>\n",
       "      <th>number_vmail_messages</th>\n",
       "      <th>total_intl_minutes</th>\n",
       "      <th>total_intl_calls</th>\n",
       "      <th>total_intl_charge</th>\n",
       "      <th>number_customer_service_calls</th>\n",
       "      <th>total_net_minutes</th>\n",
       "      <th>total_net_calls</th>\n",
       "      <th>total_net_charge</th>\n",
       "    </tr>\n",
       "  </thead>\n",
       "  <tbody>\n",
       "    <tr>\n",
       "      <th>0</th>\n",
       "      <td>128</td>\n",
       "      <td>0</td>\n",
       "      <td>1</td>\n",
       "      <td>25</td>\n",
       "      <td>10.0</td>\n",
       "      <td>3</td>\n",
       "      <td>2.70</td>\n",
       "      <td>1</td>\n",
       "      <td>707.2</td>\n",
       "      <td>300</td>\n",
       "      <td>72.86</td>\n",
       "    </tr>\n",
       "    <tr>\n",
       "      <th>1</th>\n",
       "      <td>118</td>\n",
       "      <td>1</td>\n",
       "      <td>0</td>\n",
       "      <td>0</td>\n",
       "      <td>6.3</td>\n",
       "      <td>6</td>\n",
       "      <td>1.70</td>\n",
       "      <td>0</td>\n",
       "      <td>647.9</td>\n",
       "      <td>317</td>\n",
       "      <td>65.91</td>\n",
       "    </tr>\n",
       "    <tr>\n",
       "      <th>2</th>\n",
       "      <td>62</td>\n",
       "      <td>0</td>\n",
       "      <td>0</td>\n",
       "      <td>0</td>\n",
       "      <td>13.1</td>\n",
       "      <td>6</td>\n",
       "      <td>3.54</td>\n",
       "      <td>4</td>\n",
       "      <td>630.9</td>\n",
       "      <td>245</td>\n",
       "      <td>55.77</td>\n",
       "    </tr>\n",
       "    <tr>\n",
       "      <th>3</th>\n",
       "      <td>93</td>\n",
       "      <td>0</td>\n",
       "      <td>0</td>\n",
       "      <td>0</td>\n",
       "      <td>8.1</td>\n",
       "      <td>3</td>\n",
       "      <td>2.19</td>\n",
       "      <td>3</td>\n",
       "      <td>538.5</td>\n",
       "      <td>346</td>\n",
       "      <td>56.80</td>\n",
       "    </tr>\n",
       "    <tr>\n",
       "      <th>4</th>\n",
       "      <td>174</td>\n",
       "      <td>0</td>\n",
       "      <td>0</td>\n",
       "      <td>0</td>\n",
       "      <td>15.5</td>\n",
       "      <td>5</td>\n",
       "      <td>4.19</td>\n",
       "      <td>3</td>\n",
       "      <td>652.1</td>\n",
       "      <td>303</td>\n",
       "      <td>55.96</td>\n",
       "    </tr>\n",
       "  </tbody>\n",
       "</table>\n",
       "</div>"
      ],
      "text/plain": [
       "   account_length  international_plan  voice_mail_plan  number_vmail_messages  \\\n",
       "0             128                   0                1                     25   \n",
       "1             118                   1                0                      0   \n",
       "2              62                   0                0                      0   \n",
       "3              93                   0                0                      0   \n",
       "4             174                   0                0                      0   \n",
       "\n",
       "   total_intl_minutes  total_intl_calls  total_intl_charge  \\\n",
       "0                10.0                 3               2.70   \n",
       "1                 6.3                 6               1.70   \n",
       "2                13.1                 6               3.54   \n",
       "3                 8.1                 3               2.19   \n",
       "4                15.5                 5               4.19   \n",
       "\n",
       "   number_customer_service_calls  total_net_minutes  total_net_calls  \\\n",
       "0                              1              707.2              300   \n",
       "1                              0              647.9              317   \n",
       "2                              4              630.9              245   \n",
       "3                              3              538.5              346   \n",
       "4                              3              652.1              303   \n",
       "\n",
       "   total_net_charge  \n",
       "0             72.86  \n",
       "1             65.91  \n",
       "2             55.77  \n",
       "3             56.80  \n",
       "4             55.96  "
      ]
     },
     "execution_count": 18,
     "metadata": {},
     "output_type": "execute_result"
    }
   ],
   "source": [
    "x_test = clean_Data(x_test)\n",
    "x_test.head()"
   ]
  },
  {
   "attachments": {},
   "cell_type": "markdown",
   "id": "ea26dd49",
   "metadata": {
    "papermill": {
     "duration": 0.035457,
     "end_time": "2022-04-23T17:53:58.652055",
     "exception": false,
     "start_time": "2022-04-23T17:53:58.616598",
     "status": "completed"
    },
    "tags": []
   },
   "source": [
    "# 7.Prediction \n",
    "## Using the xg boost to predict the test values \n",
    "After we use the model to predict the data we save the values in csv file to use in the submission "
   ]
  },
  {
   "cell_type": "code",
   "execution_count": 19,
   "id": "861bb080",
   "metadata": {
    "execution": {
     "iopub.execute_input": "2022-04-23T17:53:58.727266Z",
     "iopub.status.busy": "2022-04-23T17:53:58.726622Z",
     "iopub.status.idle": "2022-04-23T17:53:58.774086Z",
     "shell.execute_reply": "2022-04-23T17:53:58.772456Z"
    },
    "papermill": {
     "duration": 0.088698,
     "end_time": "2022-04-23T17:53:58.776295",
     "exception": false,
     "start_time": "2022-04-23T17:53:58.687597",
     "status": "completed"
    },
    "tags": []
   },
   "outputs": [
    {
     "name": "stdout",
     "output_type": "stream",
     "text": [
      "[0 0 0 0 0]\n"
     ]
    },
    {
     "data": {
      "text/html": [
       "<div>\n",
       "<style scoped>\n",
       "    .dataframe tbody tr th:only-of-type {\n",
       "        vertical-align: middle;\n",
       "    }\n",
       "\n",
       "    .dataframe tbody tr th {\n",
       "        vertical-align: top;\n",
       "    }\n",
       "\n",
       "    .dataframe thead th {\n",
       "        text-align: right;\n",
       "    }\n",
       "</style>\n",
       "<table border=\"1\" class=\"dataframe\">\n",
       "  <thead>\n",
       "    <tr style=\"text-align: right;\">\n",
       "      <th></th>\n",
       "      <th>id</th>\n",
       "      <th>churn</th>\n",
       "    </tr>\n",
       "  </thead>\n",
       "  <tbody>\n",
       "    <tr>\n",
       "      <th>0</th>\n",
       "      <td>1</td>\n",
       "      <td>no</td>\n",
       "    </tr>\n",
       "    <tr>\n",
       "      <th>1</th>\n",
       "      <td>2</td>\n",
       "      <td>no</td>\n",
       "    </tr>\n",
       "    <tr>\n",
       "      <th>2</th>\n",
       "      <td>3</td>\n",
       "      <td>no</td>\n",
       "    </tr>\n",
       "    <tr>\n",
       "      <th>3</th>\n",
       "      <td>4</td>\n",
       "      <td>no</td>\n",
       "    </tr>\n",
       "    <tr>\n",
       "      <th>4</th>\n",
       "      <td>5</td>\n",
       "      <td>no</td>\n",
       "    </tr>\n",
       "  </tbody>\n",
       "</table>\n",
       "</div>"
      ],
      "text/plain": [
       "   id churn\n",
       "0   1    no\n",
       "1   2    no\n",
       "2   3    no\n",
       "3   4    no\n",
       "4   5    no"
      ]
     },
     "execution_count": 19,
     "metadata": {},
     "output_type": "execute_result"
    }
   ],
   "source": [
    "pre = xg.predict(x_test)\n",
    "print(pre[:5])\n",
    "ansXG = pd.read_csv('../input/customer-churn-prediction-2020/sampleSubmission.csv')\n",
    "ansXG.churn = pre\n",
    "ansXG.churn= ansXG.churn.map({ 1: 'yes', 0 : 'no'}) \n",
    "ansXG.to_csv('sampleSubmissionXG.csv', index=False)\n",
    "ansXG.head()"
   ]
  },
  {
   "attachments": {},
   "cell_type": "markdown",
   "id": "34b76771",
   "metadata": {
    "papermill": {
     "duration": 0.03674,
     "end_time": "2022-04-23T17:53:58.850038",
     "exception": false,
     "start_time": "2022-04-23T17:53:58.813298",
     "status": "completed"
    },
    "tags": []
   },
   "source": [
    "## Randomforest \n"
   ]
  },
  {
   "cell_type": "code",
   "execution_count": 20,
   "id": "f761576a",
   "metadata": {
    "execution": {
     "iopub.execute_input": "2022-04-23T17:53:58.926068Z",
     "iopub.status.busy": "2022-04-23T17:53:58.925758Z",
     "iopub.status.idle": "2022-04-23T17:53:58.976257Z",
     "shell.execute_reply": "2022-04-23T17:53:58.974868Z"
    },
    "papermill": {
     "duration": 0.091801,
     "end_time": "2022-04-23T17:53:58.978228",
     "exception": false,
     "start_time": "2022-04-23T17:53:58.886427",
     "status": "completed"
    },
    "tags": []
   },
   "outputs": [
    {
     "name": "stdout",
     "output_type": "stream",
     "text": [
      "[0 0 0 0 0]\n"
     ]
    },
    {
     "data": {
      "text/html": [
       "<div>\n",
       "<style scoped>\n",
       "    .dataframe tbody tr th:only-of-type {\n",
       "        vertical-align: middle;\n",
       "    }\n",
       "\n",
       "    .dataframe tbody tr th {\n",
       "        vertical-align: top;\n",
       "    }\n",
       "\n",
       "    .dataframe thead th {\n",
       "        text-align: right;\n",
       "    }\n",
       "</style>\n",
       "<table border=\"1\" class=\"dataframe\">\n",
       "  <thead>\n",
       "    <tr style=\"text-align: right;\">\n",
       "      <th></th>\n",
       "      <th>id</th>\n",
       "      <th>churn</th>\n",
       "    </tr>\n",
       "  </thead>\n",
       "  <tbody>\n",
       "    <tr>\n",
       "      <th>0</th>\n",
       "      <td>1</td>\n",
       "      <td>no</td>\n",
       "    </tr>\n",
       "    <tr>\n",
       "      <th>1</th>\n",
       "      <td>2</td>\n",
       "      <td>no</td>\n",
       "    </tr>\n",
       "    <tr>\n",
       "      <th>2</th>\n",
       "      <td>3</td>\n",
       "      <td>no</td>\n",
       "    </tr>\n",
       "    <tr>\n",
       "      <th>3</th>\n",
       "      <td>4</td>\n",
       "      <td>no</td>\n",
       "    </tr>\n",
       "    <tr>\n",
       "      <th>4</th>\n",
       "      <td>5</td>\n",
       "      <td>no</td>\n",
       "    </tr>\n",
       "  </tbody>\n",
       "</table>\n",
       "</div>"
      ],
      "text/plain": [
       "   id churn\n",
       "0   1    no\n",
       "1   2    no\n",
       "2   3    no\n",
       "3   4    no\n",
       "4   5    no"
      ]
     },
     "execution_count": 20,
     "metadata": {},
     "output_type": "execute_result"
    }
   ],
   "source": [
    "pre = clf.predict(x_test)\n",
    "print(pre[:5])\n",
    "ansCLF = pd.read_csv('../input/customer-churn-prediction-2020/sampleSubmission.csv')\n",
    "ansCLF.churn = pre\n",
    "ansCLF.churn= ansCLF.churn.map({ 1: 'yes', 0 : 'no'}) \n",
    "ansCLF.to_csv('sampleSubmissionCLF.csv', index=False)\n",
    "ansCLF.head()"
   ]
  },
  {
   "cell_type": "markdown",
   "id": "1ebb7094",
   "metadata": {
    "papermill": {
     "duration": 0.037514,
     "end_time": "2022-04-23T17:53:59.053881",
     "exception": false,
     "start_time": "2022-04-23T17:53:59.016367",
     "status": "completed"
    },
    "tags": []
   },
   "source": [
    "**to check which one will be better for the data but both have the same accuracy value**"
   ]
  },
  {
   "attachments": {},
   "cell_type": "markdown",
   "id": "e510e349",
   "metadata": {
    "papermill": {
     "duration": 0.036378,
     "end_time": "2022-04-23T17:53:59.127816",
     "exception": false,
     "start_time": "2022-04-23T17:53:59.091438",
     "status": "completed"
    },
    "tags": []
   },
   "source": [
    "# Save Model\n",
    "Using joblib to dump the models into joblib files"
   ]
  },
  {
   "cell_type": "code",
   "execution_count": 21,
   "id": "08a08353",
   "metadata": {
    "execution": {
     "iopub.execute_input": "2022-04-23T17:53:59.207612Z",
     "iopub.status.busy": "2022-04-23T17:53:59.206585Z",
     "iopub.status.idle": "2022-04-23T17:53:59.375106Z",
     "shell.execute_reply": "2022-04-23T17:53:59.373689Z"
    },
    "papermill": {
     "duration": 0.210301,
     "end_time": "2022-04-23T17:53:59.377830",
     "exception": false,
     "start_time": "2022-04-23T17:53:59.167529",
     "status": "completed"
    },
    "tags": []
   },
   "outputs": [
    {
     "data": {
      "text/plain": [
       "['xg.joblib']"
      ]
     },
     "execution_count": 21,
     "metadata": {},
     "output_type": "execute_result"
    }
   ],
   "source": [
    "from joblib import dump\n",
    "dump(clf, 'clf.joblib') \n",
    "dump(xg, 'xg.joblib') "
   ]
  }
 ],
 "metadata": {
  "kernelspec": {
   "display_name": "Python 3",
   "language": "python",
   "name": "python3"
  },
  "language_info": {
   "codemirror_mode": {
    "name": "ipython",
    "version": 3
   },
   "file_extension": ".py",
   "mimetype": "text/x-python",
   "name": "python",
   "nbconvert_exporter": "python",
   "pygments_lexer": "ipython3",
   "version": "3.7.12"
  },
  "papermill": {
   "default_parameters": {},
   "duration": 30.996054,
   "end_time": "2022-04-23T17:54:00.438588",
   "environment_variables": {},
   "exception": null,
   "input_path": "__notebook__.ipynb",
   "output_path": "__notebook__.ipynb",
   "parameters": {},
   "start_time": "2022-04-23T17:53:29.442534",
   "version": "2.3.4"
  }
 },
 "nbformat": 4,
 "nbformat_minor": 5
}
